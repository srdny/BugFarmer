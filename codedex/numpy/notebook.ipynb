{
 "cells": [
  {
   "cell_type": "code",
   "execution_count": 2,
   "id": "3d336ebd",
   "metadata": {},
   "outputs": [
    {
     "name": "stdout",
     "output_type": "stream",
     "text": [
      "test\n"
     ]
    }
   ],
   "source": [
    "print(\"test\")"
   ]
  },
  {
   "cell_type": "code",
   "execution_count": 3,
   "id": "6b465a57",
   "metadata": {},
   "outputs": [
    {
     "data": {
      "text/html": [
       "<img src=\"https://imgur.com/5CXo6pt.gif\"/>"
      ],
      "text/plain": [
       "<IPython.core.display.Image object>"
      ]
     },
     "execution_count": 3,
     "metadata": {},
     "output_type": "execute_result"
    }
   ],
   "source": [
    "from IPython.display import Image\n",
    "\n",
    "Image(url='https://imgur.com/5CXo6pt.gif')"
   ]
  },
  {
   "cell_type": "code",
   "execution_count": 4,
   "id": "ac0caa05",
   "metadata": {},
   "outputs": [
    {
     "name": "stdout",
     "output_type": "stream",
     "text": [
      "1.26.1\n"
     ]
    }
   ],
   "source": [
    "import numpy as np\n",
    "\n",
    "print(np.__version__)"
   ]
  },
  {
   "cell_type": "code",
   "execution_count": 5,
   "id": "29fc97a6",
   "metadata": {},
   "outputs": [],
   "source": [
    "electric_bill = np.array([24.33, 22.99, 50.99, 31.99, 22.99, 23.44])\n",
    "gas_bill = np.array([34.55, 23.22, 23.44, 44.55, 33.22, 33.12])\n",
    "wifi_bill = np.array([34.99, 34.99, 34.99, 34.99, 34.99, 34.99])"
   ]
  },
  {
   "cell_type": "code",
   "execution_count": 6,
   "id": "f9f07758",
   "metadata": {},
   "outputs": [
    {
     "name": "stdout",
     "output_type": "stream",
     "text": [
      "[34.55 23.22 23.44 44.55 33.22 33.12]\n"
     ]
    }
   ],
   "source": [
    "print(gas_bill)"
   ]
  },
  {
   "cell_type": "code",
   "execution_count": 7,
   "id": "dc44e2fc",
   "metadata": {},
   "outputs": [],
   "source": [
    "population = np.array([19571216, 19673200, 19854526, 20104710, 19463131, 19544098, 19593849, 19636391, 19657321, 19653431, 19626488])"
   ]
  },
  {
   "cell_type": "code",
   "execution_count": 8,
   "id": "eb002172",
   "metadata": {},
   "outputs": [
    {
     "name": "stdout",
     "output_type": "stream",
     "text": [
      "19571216\n"
     ]
    }
   ],
   "source": [
    "print(population[0])"
   ]
  },
  {
   "cell_type": "code",
   "execution_count": 9,
   "id": "17403700",
   "metadata": {},
   "outputs": [
    {
     "name": "stdout",
     "output_type": "stream",
     "text": [
      "55272\n"
     ]
    }
   ],
   "source": [
    "print(population[10]-population[0])"
   ]
  },
  {
   "cell_type": "code",
   "execution_count": 10,
   "id": "e43b839a",
   "metadata": {},
   "outputs": [
    {
     "name": "stdout",
     "output_type": "stream",
     "text": [
      "[19673200 19854526 20104710]\n"
     ]
    }
   ],
   "source": [
    "print(population[1:4])"
   ]
  },
  {
   "cell_type": "code",
   "execution_count": 11,
   "id": "e940317d",
   "metadata": {},
   "outputs": [
    {
     "name": "stdout",
     "output_type": "stream",
     "text": [
      "[[1 2 3]\n",
      " [4 5 6]\n",
      " [7 8 9]]\n"
     ]
    }
   ],
   "source": [
    "arr = np.array([[1, 2, 3], [4, 5, 6], [7, 8, 9]])\n",
    "print(arr)"
   ]
  },
  {
   "cell_type": "code",
   "execution_count": 12,
   "id": "1778ff4b",
   "metadata": {},
   "outputs": [
    {
     "name": "stdout",
     "output_type": "stream",
     "text": [
      "[1 2 3]\n",
      "[4 5 6]\n",
      "[7 8 9]\n"
     ]
    }
   ],
   "source": [
    "print(arr[0])     # Output: [1, 2, 3]\n",
    "print(arr[1])     # Output: [4, 5, 6]\n",
    "print(arr[2])     # Output: [7, 8, 9]"
   ]
  },
  {
   "cell_type": "code",
   "execution_count": 13,
   "id": "5223a6bb",
   "metadata": {},
   "outputs": [
    {
     "name": "stdout",
     "output_type": "stream",
     "text": [
      "1\n",
      "3\n",
      "9\n"
     ]
    }
   ],
   "source": [
    "print(arr[0][0])  # Output: 1\n",
    "print(arr[0][2])  # Output: 3\n",
    "print(arr[2][2])  # Output: 9"
   ]
  },
  {
   "cell_type": "code",
   "execution_count": 14,
   "id": "133e6724",
   "metadata": {},
   "outputs": [],
   "source": [
    "seating_plan = np.array([\n",
    "  [0, 1, 3], \n",
    "  [2, 9, 5],\n",
    "  [6, 7, 10]\n",
    "])"
   ]
  },
  {
   "cell_type": "code",
   "execution_count": 15,
   "id": "96a6a7a4",
   "metadata": {},
   "outputs": [],
   "source": [
    "monthly_budget = np.array([\n",
    "  [453.88, 192.44, 1750.00, 980.41, 578.22],   # month 1\n",
    "  [689.77, 256.81, 1750.00, 865.34, 356.84],   # month 2\n",
    "  [589.23, 293.42, 1850.00, 873.45, 789.23]    # month 3\n",
    "])"
   ]
  },
  {
   "cell_type": "code",
   "execution_count": 16,
   "id": "f4e6aa14",
   "metadata": {},
   "outputs": [],
   "source": [
    "gradebook = np.array([\n",
    "  [98, 98, 90, 84, 93, 73, 80],                # student 1\n",
    "  [93, 95, 75, 90, 89, 84, 76],                # student 2\n",
    "  [90, 89, 88, 84, 90, 67, 72],                # student 3\n",
    "  [89, 84, 69, 74, 84, 70, 72]                 # student 4\n",
    "])"
   ]
  },
  {
   "cell_type": "code",
   "execution_count": 17,
   "id": "9c3ac336",
   "metadata": {},
   "outputs": [],
   "source": [
    "egg_carton1 = np.array([\n",
    "  [0.89, 0.90, 0.83, 0.89, 0.97, 0.98], \n",
    "  [0.95, 0.95, 0.89, 0.95, 0.23, 0.99]\n",
    "])\n",
    "\n",
    "egg_carton2 = np.array([\n",
    "  [0.89, 0.95, 0.84, 0.92, 0.94, 0.93], \n",
    "  [0.93, 0.95, 0.02, 0.03, 0.23, 0.99]\n",
    "])\n",
    "\n",
    "egg_carton3 = np.array([\n",
    "  [0.83, 0.95, 0.89, 0.54, 0.37, 0.92], \n",
    "  [0.98, 0.99, 0.19, 0.23, 0.89, 0.91]\n",
    "])"
   ]
  },
  {
   "cell_type": "code",
   "execution_count": 18,
   "id": "79b7b8be",
   "metadata": {},
   "outputs": [
    {
     "name": "stdout",
     "output_type": "stream",
     "text": [
      "0.8683333333333333\n",
      "0.7183333333333333\n",
      "0.7241666666666666\n"
     ]
    }
   ],
   "source": [
    "avg_egg1 = np.average(egg_carton1)\n",
    "avg_egg2 = np.average(egg_carton2)\n",
    "avg_egg3 = np.average(egg_carton3)\n",
    "\n",
    "print(avg_egg1)\n",
    "print(avg_egg2)\n",
    "print(avg_egg3)"
   ]
  },
  {
   "cell_type": "code",
   "execution_count": 19,
   "id": "bc7f54de",
   "metadata": {},
   "outputs": [
    {
     "name": "stdout",
     "output_type": "stream",
     "text": [
      "[10.392  7.992  3.992 10.392]\n"
     ]
    }
   ],
   "source": [
    " \n",
    "order = np.array([12.99, 9.99, 4.99, 12.99])\n",
    "\n",
    "print(order * 0.8)   # Output: [10.39 7.99 3.99 10.39]"
   ]
  },
  {
   "cell_type": "code",
   "execution_count": 21,
   "id": "c47c07b3",
   "metadata": {},
   "outputs": [
    {
     "name": "stdout",
     "output_type": "stream",
     "text": [
      "[828.1416 678.7896 631.8504 601.0656 599.2368 554.4312 541.3248]\n"
     ]
    }
   ],
   "source": [
    "tallest_buildings = np.array([2717, 2227, 2073, 1972, 1966, 1819, 1776])\n",
    "print(tallest_buildings*0.3048)\n"
   ]
  },
  {
   "cell_type": "code",
   "execution_count": 22,
   "id": "20dc9fb8",
   "metadata": {},
   "outputs": [
    {
     "name": "stdout",
     "output_type": "stream",
     "text": [
      "38\n",
      "59\n",
      "776\n",
      "48.5\n"
     ]
    }
   ],
   "source": [
    "temperatures = np.array([[50, 51, 54, 59, 59, 53, 54, 51],\n",
    "                         [45, 50, 38, 44, 40, 46, 43, 39]])\n",
    "\n",
    "print(np.min(temperatures))       # Output: 38\n",
    "print(np.max(temperatures))       # Output: 59\n",
    "print(np.sum(temperatures))       # Output: 776\n",
    "print(np.average(temperatures))   # Output: 48.5"
   ]
  },
  {
   "cell_type": "code",
   "execution_count": 24,
   "id": "059a718c",
   "metadata": {},
   "outputs": [
    {
     "name": "stdout",
     "output_type": "stream",
     "text": [
      "[ 95 101  92 103  99  99  97  90]\n",
      "[50 38]\n"
     ]
    }
   ],
   "source": [
    "\n",
    "print(np.sum(temperatures, axis=0))   # Sum of each column\n",
    "print(np.min(temperatures, axis=1))   # Min of each row"
   ]
  },
  {
   "cell_type": "code",
   "execution_count": 25,
   "id": "9e50b302",
   "metadata": {},
   "outputs": [
    {
     "name": "stdout",
     "output_type": "stream",
     "text": [
      "(4, 3)\n"
     ]
    }
   ],
   "source": [
    "arr = np.array([[1, 2, 3], [4, 5, 6], [7, 8, 9], [10, 11, 12]]) \n",
    "\n",
    "print(arr.shape)     # Output: (4, 3)"
   ]
  },
  {
   "cell_type": "code",
   "execution_count": 26,
   "id": "d7d8e6de",
   "metadata": {},
   "outputs": [
    {
     "name": "stdout",
     "output_type": "stream",
     "text": [
      "[[1 2 3 4]\n",
      " [5 6 7 8]]\n"
     ]
    }
   ],
   "source": [
    "arr = np.array([1, 2, 3, 4, 5, 6, 7, 8]) \n",
    "new_arr = arr.reshape(2, 4)\n",
    "\n",
    "print(new_arr)\n",
    "\n",
    "# Output:\n",
    "# [[1 2 3 4]\n",
    "# [5 6 7 8]]"
   ]
  },
  {
   "cell_type": "code",
   "execution_count": 28,
   "id": "a8bed5a8",
   "metadata": {},
   "outputs": [
    {
     "name": "stdout",
     "output_type": "stream",
     "text": [
      "(28,)\n",
      "[[ 56 100  33   0  45  45  46]\n",
      " [ 34  89 180  60  45  45  44]\n",
      " [ 46  45   0   0  15  90 301]\n",
      " [197  20  60  45  45  42  45]]\n"
     ]
    }
   ],
   "source": [
    "month_results = np.array([56, 100, 33, 0, 45, 45, 46, 34, 89, 180, 60, 45, 45, 44, 46, 45, 0, 0, 15, 90, 301, 197, 20, 60, 45, 45, 42, 45])\n",
    "print(month_results.shape)\n",
    "\n",
    "new_shape = month_results.reshape(4,7)\n",
    "print(new_shape)"
   ]
  },
  {
   "cell_type": "code",
   "execution_count": 33,
   "id": "cf7803e7",
   "metadata": {},
   "outputs": [
    {
     "name": "stdout",
     "output_type": "stream",
     "text": [
      "[ 1  5  9 13]\n"
     ]
    }
   ],
   "source": [
    "arr = np.arange(start=1, stop=14, step=4)\n",
    "\n",
    "print(arr)   # Output: [1 4 7]"
   ]
  },
  {
   "cell_type": "code",
   "execution_count": 34,
   "id": "a3a3a1d1",
   "metadata": {},
   "outputs": [
    {
     "name": "stdout",
     "output_type": "stream",
     "text": [
      "[1986 2061 2136 2211 2286 2361 2436 2511 2586 2661 2736 2811 2886 2961]\n"
     ]
    }
   ],
   "source": [
    "arr_comet = np.arange(1986,3000,75)\n",
    "print(arr_comet)"
   ]
  },
  {
   "cell_type": "code",
   "execution_count": 43,
   "id": "45438e6e",
   "metadata": {},
   "outputs": [
    {
     "name": "stdout",
     "output_type": "stream",
     "text": [
      "(50, 4)\n",
      "25.5\n",
      "25.5\n",
      "70\n",
      "0\n",
      "44.0\n",
      "56.00000000000001\n"
     ]
    }
   ],
   "source": [
    "passengers = np.array([\n",
    "   [1, 0, 3, 22],\n",
    "   [2, 1, 1, 38],\n",
    "   [3, 1, 3, 26],\n",
    "   [4, 1, 1, 35],\n",
    "   [5, 0, 3, 35],\n",
    "   [6, 0, 3, 18],\n",
    "   [7, 0, 1, 54],\n",
    "   [8, 0, 3, 2],\n",
    "   [9, 1, 3, 27],\n",
    "  [10, 1, 2, 14],\n",
    "  [11, 1, 3, 4],\n",
    "  [12, 1, 1, 58],\n",
    "  [13, 0, 3, 20],\n",
    "  [14, 0, 3, 39],\n",
    "  [15, 0, 3, 14],\n",
    "  [16, 1, 2, 55],\n",
    "  [17, 0, 3, 2],\n",
    "  [18, 1, 2, 12],\n",
    "  [19, 0, 3, 31],\n",
    "  [20, 1, 3, 8],\n",
    "  [21, 0, 2, 35],\n",
    "  [22, 1, 2, 34],\n",
    "  [23, 1, 3, 15],\n",
    "  [24, 1, 1, 28],\n",
    "  [25, 0, 3, 8],\n",
    "  [26, 1, 3, 38],\n",
    "  [27, 0, 3, 2],\n",
    "  [28, 0, 1, 1],\n",
    "  [29, 1, 3, 5],\n",
    "  [30, 0, 3, 18],\n",
    "  [31, 0, 1, 40],\n",
    "  [32, 1, 1, 70],\n",
    "  [33, 1, 3, 33],\n",
    "  [34, 0, 2, 66],\n",
    "  [35, 0, 1, 28],\n",
    "  [36, 0, 1, 42],\n",
    "  [37, 1, 3, 5],\n",
    "  [38, 0, 3, 18],\n",
    "  [39, 0, 3, 18],\n",
    "  [40, 1, 3, 14],\n",
    "  [41, 0, 3, 40],\n",
    "  [42, 0, 2, 27],\n",
    "  [43, 0, 3, 29],\n",
    "  [44, 1, 2, 0],\n",
    "  [45, 1, 3, 19],\n",
    "  [46, 0, 3, 33],\n",
    "  [47, 0, 3, 14],\n",
    "  [48, 1, 3, 22],\n",
    "  [49, 0, 3, 41],\n",
    "  [50, 0, 3, 18]\n",
    "])\n",
    "print(passengers.shape)\n",
    "\n",
    "print(np.average(passengers, axis=0)[3])\n",
    "avg_passengers = np.average(passengers[:,3])\n",
    "print(avg_passengers)\n",
    "old_passengers = np.max(passengers[:,3])\n",
    "print(old_passengers)\n",
    "young_passengers = np.min(passengers[:,3])\n",
    "print(young_passengers)\n",
    "\n",
    "total_pax = np.max(passengers,axis=0)[0]\n",
    "\n",
    "no_survive = np.sum(passengers == 0 ,axis = 0 )[1]\n",
    "survive = np.sum(passengers == 1 ,axis = 0 )[1]\n",
    "\n",
    "print((survive/total_pax)*100)\n",
    "print((no_survive/total_pax)*100)\n"
   ]
  },
  {
   "cell_type": "code",
   "execution_count": 42,
   "id": "ce5803d5",
   "metadata": {},
   "outputs": [
    {
     "name": "stdout",
     "output_type": "stream",
     "text": [
      "Occurrences of 2 per column: [1 2 1 1]\n",
      "Occurrences of 2 per row: [2 1 2]\n"
     ]
    }
   ],
   "source": [
    " \n",
    "\n",
    "arr_2d = np.array([\n",
    "    [1, 2, 3, 2],\n",
    "    [5, 2, 7, 8],\n",
    "    [2, 10, 2, 12]\n",
    "])\n",
    "\n",
    "specific_value = 2\n",
    "\n",
    "# Count occurrences of 2 in each column\n",
    "count_per_column = np.sum(arr_2d == specific_value, axis=0)\n",
    "print(f\"Occurrences of {specific_value} per column: {count_per_column}\") # Output: [1 3 2 1]\n",
    "\n",
    "# Count occurrences of 2 in each row\n",
    "count_per_row = np.sum(arr_2d == specific_value, axis=1)\n",
    "print(f\"Occurrences of {specific_value} per row: {count_per_row}\") "
   ]
  },
  {
   "cell_type": "code",
   "execution_count": null,
   "id": "7c99194d",
   "metadata": {},
   "outputs": [],
   "source": []
  }
 ],
 "metadata": {
  "kernelspec": {
   "display_name": "Python 3",
   "language": "python",
   "name": "python3"
  },
  "language_info": {
   "codemirror_mode": {
    "name": "ipython",
    "version": 3
   },
   "file_extension": ".py",
   "mimetype": "text/x-python",
   "name": "python",
   "nbconvert_exporter": "python",
   "pygments_lexer": "ipython3",
   "version": "3.11.4"
  }
 },
 "nbformat": 4,
 "nbformat_minor": 5
}
